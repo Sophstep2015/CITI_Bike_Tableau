{
 "cells": [
  {
   "cell_type": "markdown",
   "id": "ddda662e",
   "metadata": {},
   "source": [
    "Citi Bike Analysis January through June 2020\n",
    "The workbook contains a All Stations Map which represents all start and end stations. Users can zoom in to reveal number of rides. Hovering over the plots reveals start and end station Id’s as well as the number of rides registered to the location.\n",
    "Start & End Stations Maps \n",
    "Contains a map plot of all start stations with volume indicated by larger bubbles. Hover over the plots to reveal start station information as well as volume information. Users can zoom into the plots and the data labels will display the overall volume with the map displaying the zip codes. \n",
    "The most popular stations appear to be located at Bridges/Major entry points, streets and points of attraction like Central park. The most popular starting location was West St & Chambers St. which appears to be located by several parks and educational facilities. \n",
    "One odd occurrence that was noted is when both stations were plotted there were a few stations that had one plot but had different start end id and name. So the analysis separated the start and end points. \n",
    " \n",
    "The highest volume  end point was 12 Ave & W 40 St which was located on the New York side of the Lincoln Tunnel which is a major entry point to the city. This may indicate that a portion of the population parks and rides the Citi Bike to the final Destination.\n",
    "\n",
    "Demographics \n",
    "Data for demographics contained two separate irregularities. There were sever rides which were logged with significant milage for riders well over 100 years old this suggests users may not be accurately recording birth year. Another anomaly was the high number of riders who registered 1969 as their birth year. This could be caused by riders jokingly entering this data for their ride. Average distance ranged from about .92 miles to 2.6 miles for riders 16-93 years old. The trips by age number graph shows that 30 year old took the most trips for both subscribers and regular customers. Subscribers were the riders who represented the majority of the rides January-June 2020. \n",
    "There was a significant decline in rides in April of 2020 which is more than likely caused by restrictions during the COVID-19 pandemic which occurred around the same time. \n",
    "Riders were predominately male representing 63.06% of all riders. Female represented 27.15% with the remaining percentages the gender was unknown. Female riders rode slightly longer and further than their male counterparts. \n",
    "\n",
    "Subscribers represented 86.3% of riders during the first six months of 2020. Subscribers were also predominately male at 61.90 of subscribers being male. \n",
    "Popular Ride Times\n",
    "Citi bikes over this time-period were slightly more popular on the weekends which came as a surprise due to popular stations being located near entry points. Each day of the week during the six-month period registered over 1 million rides.\n",
    " The most popular times of day were 8am and 5 pm which corresponds with times people go to and leave from work. This was also interesting given the fact that the weekends registered more total rides. \n",
    "\n",
    "Bike Usage and Maintenance\n",
    "This report gives city the officials a view of the top ten bikes with the highest milage and the top ten bikes by minutes used. What was interesting that the minutes used did not necessarily translate to higher mileage. City officials can use this dashboard to plan maintenance intervals. "
   ]
  }
 ],
 "metadata": {
  "kernelspec": {
   "display_name": "Python 3",
   "language": "python",
   "name": "python3"
  },
  "language_info": {
   "codemirror_mode": {
    "name": "ipython",
    "version": 3
   },
   "file_extension": ".py",
   "mimetype": "text/x-python",
   "name": "python",
   "nbconvert_exporter": "python",
   "pygments_lexer": "ipython3",
   "version": "3.8.8"
  }
 },
 "nbformat": 4,
 "nbformat_minor": 5
}
